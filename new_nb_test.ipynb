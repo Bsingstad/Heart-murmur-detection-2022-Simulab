{
 "cells": [
  {
   "cell_type": "code",
   "execution_count": 5,
   "metadata": {},
   "outputs": [
    {
     "name": "stderr",
     "output_type": "stream",
     "text": [
      " 39%|███▉      | 371/942 [00:15<00:24, 23.37it/s]\n"
     ]
    },
    {
     "ename": "KeyboardInterrupt",
     "evalue": "",
     "output_type": "error",
     "traceback": [
      "\u001b[1;31m---------------------------------------------------------------------------\u001b[0m",
      "\u001b[1;31mKeyboardInterrupt\u001b[0m                         Traceback (most recent call last)",
      "\u001b[1;32mc:\\Users\\Bjorn\\Documents\\Github\\Heart-murmur-detection-2022-private\\new_nb_test.ipynb Cell 1\u001b[0m in \u001b[0;36m<cell line: 44>\u001b[1;34m()\u001b[0m\n\u001b[0;32m     <a href='vscode-notebook-cell:/c%3A/Users/Bjorn/Documents/Github/Heart-murmur-detection-2022-private/new_nb_test.ipynb#ch0000000?line=43'>44</a>\u001b[0m \u001b[39mfor\u001b[39;00m i \u001b[39min\u001b[39;00m tqdm\u001b[39m.\u001b[39mtqdm(\u001b[39mrange\u001b[39m(num_patient_files)):\n\u001b[0;32m     <a href='vscode-notebook-cell:/c%3A/Users/Bjorn/Documents/Github/Heart-murmur-detection-2022-private/new_nb_test.ipynb#ch0000000?line=44'>45</a>\u001b[0m     \u001b[39m# Load the current patient data and recordings.\u001b[39;00m\n\u001b[0;32m     <a href='vscode-notebook-cell:/c%3A/Users/Bjorn/Documents/Github/Heart-murmur-detection-2022-private/new_nb_test.ipynb#ch0000000?line=45'>46</a>\u001b[0m     current_patient_data \u001b[39m=\u001b[39m load_patient_data(patient_files[i])\n\u001b[1;32m---> <a href='vscode-notebook-cell:/c%3A/Users/Bjorn/Documents/Github/Heart-murmur-detection-2022-private/new_nb_test.ipynb#ch0000000?line=46'>47</a>\u001b[0m     current_recordings, freq \u001b[39m=\u001b[39m load_recordings(data_folder, current_patient_data, get_frequencies\u001b[39m=\u001b[39;49m\u001b[39mTrue\u001b[39;49;00m)\n\u001b[0;32m     <a href='vscode-notebook-cell:/c%3A/Users/Bjorn/Documents/Github/Heart-murmur-detection-2022-private/new_nb_test.ipynb#ch0000000?line=47'>48</a>\u001b[0m     \u001b[39mfor\u001b[39;00m j \u001b[39min\u001b[39;00m \u001b[39mrange\u001b[39m(\u001b[39mlen\u001b[39m(current_recordings)):\n\u001b[0;32m     <a href='vscode-notebook-cell:/c%3A/Users/Bjorn/Documents/Github/Heart-murmur-detection-2022-private/new_nb_test.ipynb#ch0000000?line=48'>49</a>\u001b[0m         data\u001b[39m.\u001b[39mappend(signal\u001b[39m.\u001b[39mresample(current_recordings[j], \u001b[39mint\u001b[39m((\u001b[39mlen\u001b[39m(current_recordings[j])\u001b[39m/\u001b[39mfreq[j]) \u001b[39m*\u001b[39m NEW_FREQUENCY)))\n",
      "File \u001b[1;32mc:\\Users\\Bjorn\\Documents\\Github\\Heart-murmur-detection-2022-private\\helper_code.py:76\u001b[0m, in \u001b[0;36mload_recordings\u001b[1;34m(data_folder, data, get_frequencies)\u001b[0m\n\u001b[0;32m     74\u001b[0m recording_file \u001b[39m=\u001b[39m entries[\u001b[39m2\u001b[39m]\n\u001b[0;32m     75\u001b[0m filename \u001b[39m=\u001b[39m os\u001b[39m.\u001b[39mpath\u001b[39m.\u001b[39mjoin(data_folder, recording_file)\n\u001b[1;32m---> 76\u001b[0m recording, frequency \u001b[39m=\u001b[39m load_wav_file(filename)\n\u001b[0;32m     77\u001b[0m recordings\u001b[39m.\u001b[39mappend(recording)\n\u001b[0;32m     78\u001b[0m frequencies\u001b[39m.\u001b[39mappend(frequency)\n",
      "File \u001b[1;32mc:\\Users\\Bjorn\\Documents\\Github\\Heart-murmur-detection-2022-private\\helper_code.py:62\u001b[0m, in \u001b[0;36mload_wav_file\u001b[1;34m(filename)\u001b[0m\n\u001b[0;32m     61\u001b[0m \u001b[39mdef\u001b[39;00m \u001b[39mload_wav_file\u001b[39m(filename):\n\u001b[1;32m---> 62\u001b[0m     frequency, recording \u001b[39m=\u001b[39m sp\u001b[39m.\u001b[39;49mio\u001b[39m.\u001b[39;49mwavfile\u001b[39m.\u001b[39;49mread(filename)\n\u001b[0;32m     63\u001b[0m     \u001b[39mreturn\u001b[39;00m recording, frequency\n",
      "File \u001b[1;32mc:\\Users\\Bjorn\\anaconda3\\envs\\new_tf\\lib\\site-packages\\scipy\\io\\wavfile.py:647\u001b[0m, in \u001b[0;36mread\u001b[1;34m(filename, mmap)\u001b[0m\n\u001b[0;32m    645\u001b[0m     mmap \u001b[39m=\u001b[39m \u001b[39mFalse\u001b[39;00m\n\u001b[0;32m    646\u001b[0m \u001b[39melse\u001b[39;00m:\n\u001b[1;32m--> 647\u001b[0m     fid \u001b[39m=\u001b[39m \u001b[39mopen\u001b[39;49m(filename, \u001b[39m'\u001b[39;49m\u001b[39mrb\u001b[39;49m\u001b[39m'\u001b[39;49m)\n\u001b[0;32m    649\u001b[0m \u001b[39mtry\u001b[39;00m:\n\u001b[0;32m    650\u001b[0m     file_size, is_big_endian \u001b[39m=\u001b[39m _read_riff_chunk(fid)\n",
      "\u001b[1;31mKeyboardInterrupt\u001b[0m: "
     ]
    }
   ],
   "source": [
    "from helper_code import *\n",
    "import numpy as np, scipy as sp, scipy.stats, os, sys, joblib\n",
    "from sklearn.impute import SimpleImputer\n",
    "from sklearn.ensemble import RandomForestClassifier\n",
    "from sklearn.utils.class_weight import compute_class_weight\n",
    "import os\n",
    "import tqdm\n",
    "import numpy as np\n",
    "import tensorflow as tf\n",
    "from scipy import signal\n",
    "from sklearn.model_selection import StratifiedKFold\n",
    "from sklearn.utils.class_weight import compute_class_weight\n",
    "# Find data files.\n",
    "\n",
    "data_folder = \"./data/dataset/data/training_data/\"\n",
    "\n",
    "# Find the patient data files.\n",
    "patient_files = find_patient_files(data_folder)\n",
    "num_patient_files = len(patient_files)\n",
    "\n",
    "if num_patient_files==0:\n",
    "    raise Exception('No data was provided.')\n",
    "\n",
    "# Create a folder for the model if it does not already exist.\n",
    "#os.makedirs(model_folder, exist_ok=True)\n",
    "#TODO: remove this:\n",
    "#classes = ['Present', 'Unknown', 'Absent']\n",
    "#num_classes = len(classes)\n",
    "\n",
    "murmur_classes = ['Present', 'Unknown', 'Absent']\n",
    "num_murmur_classes = len(murmur_classes)\n",
    "outcome_classes = ['Abnormal', 'Normal']\n",
    "num_outcome_classes = len(outcome_classes)\n",
    "\n",
    "# Extract the features and labels.\n",
    "#if verbose >= 1:\n",
    "#    print('Extracting features and labels from the Challenge data...')\n",
    "\n",
    "data = []\n",
    "murmurs = list()\n",
    "outcomes = list()\n",
    "NEW_FREQUENCY = 500\n",
    "\n",
    "for i in tqdm.tqdm(range(num_patient_files)):\n",
    "    # Load the current patient data and recordings.\n",
    "    current_patient_data = load_patient_data(patient_files[i])\n",
    "    current_recordings, freq = load_recordings(data_folder, current_patient_data, get_frequencies=True)\n",
    "    for j in range(len(current_recordings)):\n",
    "        data.append(signal.resample(current_recordings[j], int((len(current_recordings[j])/freq[j]) * NEW_FREQUENCY)))\n",
    "\n"
   ]
  },
  {
   "cell_type": "code",
   "execution_count": null,
   "metadata": {},
   "outputs": [],
   "source": [
    "    current_murmur = np.zeros(num_murmur_classes, dtype=int)\n",
    "    murmur = get_murmur(current_patient_data)\n",
    "    if murmur in murmur_classes:\n",
    "        j = murmur_classes.index(murmur)\n",
    "        current_murmur[j] = 1\n",
    "    murmurs.append(current_murmur)"
   ]
  }
 ],
 "metadata": {
  "kernelspec": {
   "display_name": "Python 3.9.12 ('new_tf')",
   "language": "python",
   "name": "python3"
  },
  "language_info": {
   "codemirror_mode": {
    "name": "ipython",
    "version": 3
   },
   "file_extension": ".py",
   "mimetype": "text/x-python",
   "name": "python",
   "nbconvert_exporter": "python",
   "pygments_lexer": "ipython3",
   "version": "3.9.12"
  },
  "orig_nbformat": 4,
  "vscode": {
   "interpreter": {
    "hash": "81dc1ec217f909c38e5ae243ef69d513d8afbbda1378a4910b902bfe00eb3e7d"
   }
  }
 },
 "nbformat": 4,
 "nbformat_minor": 2
}
