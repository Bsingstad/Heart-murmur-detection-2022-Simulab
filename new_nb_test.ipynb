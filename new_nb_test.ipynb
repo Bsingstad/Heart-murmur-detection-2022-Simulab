{
 "cells": [
  {
   "cell_type": "code",
   "execution_count": 75,
   "metadata": {},
   "outputs": [
    {
     "name": "stderr",
     "output_type": "stream",
     "text": [
      "100%|██████████| 942/942 [00:31<00:00, 29.70it/s]\n"
     ]
    }
   ],
   "source": [
    "from helper_code import *\n",
    "from team_code import *\n",
    "import numpy as np, scipy as sp, scipy.stats, os, sys, joblib\n",
    "from sklearn.impute import SimpleImputer\n",
    "from sklearn.ensemble import RandomForestClassifier\n",
    "from sklearn.utils.class_weight import compute_class_weight\n",
    "import os\n",
    "import tqdm\n",
    "import numpy as np\n",
    "import tensorflow as tf\n",
    "from scipy import signal\n",
    "from sklearn.model_selection import StratifiedKFold\n",
    "from sklearn.utils.class_weight import compute_class_weight\n",
    "# Find data files.\n",
    "\n",
    "data_folder = \"./data/dataset/data/training_data/\"\n",
    "\n",
    "# Find the patient data files.\n",
    "patient_files = find_patient_files(data_folder)\n",
    "num_patient_files = len(patient_files)\n",
    "\n",
    "if num_patient_files==0:\n",
    "    raise Exception('No data was provided.')\n",
    "\n",
    "# Create a folder for the model if it does not already exist.\n",
    "#os.makedirs(model_folder, exist_ok=True)\n",
    "#TODO: remove this:\n",
    "#classes = ['Present', 'Unknown', 'Absent']\n",
    "#num_classes = len(classes)\n",
    "\n",
    "murmur_classes = ['Present', 'Unknown', 'Absent']\n",
    "num_murmur_classes = len(murmur_classes)\n",
    "outcome_classes = ['Abnormal', 'Normal']\n",
    "num_outcome_classes = len(outcome_classes)\n",
    "\n",
    "# Extract the features and labels.\n",
    "#if verbose >= 1:\n",
    "#    print('Extracting features and labels from the Challenge data...')\n",
    "\n",
    "data = []\n",
    "murmurs = list()\n",
    "outcomes = list()\n",
    "NEW_FREQUENCY = 100\n",
    "\n",
    "for i in tqdm.tqdm(range(num_patient_files)):\n",
    "    # Load the current patient data and recordings.\n",
    "    current_patient_data = load_patient_data(patient_files[i])\n",
    "    current_recordings, freq = load_recordings(data_folder, current_patient_data, get_frequencies=True)\n",
    "    for j in range(len(current_recordings)):\n",
    "        data.append(signal.resample(current_recordings[j], int((len(current_recordings[j])/freq[j]) * NEW_FREQUENCY)))\n",
    "        current_auscultation_location = current_patient_data.split('\\n')[1:len(current_recordings)+1][j].split(\" \")[0]\n",
    "        all_murmur_locations = get_murmur_locations(current_patient_data).split(\"+\")\n",
    "        current_murmur = np.zeros(num_murmur_classes, dtype=int)\n",
    "        if get_murmur(current_patient_data) == \"Present\":\n",
    "            if current_auscultation_location in all_murmur_locations:\n",
    "                current_murmur[0] = 1\n",
    "            else:\n",
    "                pass\n",
    "        elif get_murmur(current_patient_data) == \"Unknown\":\n",
    "            current_murmur[1] = 1\n",
    "        elif get_murmur(current_patient_data) == \"Absent\":\n",
    "            current_murmur[2] = 1\n",
    "        murmurs.append(current_murmur)\n",
    "\n",
    "        current_outcome = np.zeros(num_outcome_classes, dtype=int)\n",
    "        outcome = get_outcome(current_patient_data)\n",
    "        if outcome in outcome_classes:\n",
    "            j = outcome_classes.index(outcome)\n",
    "            current_outcome[j] = 1\n",
    "        outcomes.append(current_outcome)\n",
    "\n",
    "data_padded = pad_array(data)\n",
    "\n"
   ]
  },
  {
   "cell_type": "code",
   "execution_count": 74,
   "metadata": {},
   "outputs": [
    {
     "data": {
      "text/plain": [
       "(3163, 6451, 1)"
      ]
     },
     "execution_count": 74,
     "metadata": {},
     "output_type": "execute_result"
    }
   ],
   "source": [
    "np.expand_dims(data_padded,2).shape"
   ]
  },
  {
   "cell_type": "code",
   "execution_count": 70,
   "metadata": {},
   "outputs": [
    {
     "data": {
      "text/plain": [
       "(3163, 6451)"
      ]
     },
     "execution_count": 70,
     "metadata": {},
     "output_type": "execute_result"
    }
   ],
   "source": [
    "data_padded.shape"
   ]
  },
  {
   "cell_type": "code",
   "execution_count": 65,
   "metadata": {},
   "outputs": [],
   "source": [
    "def pad_array(data):\n",
    "    max_len = 0\n",
    "    for i in data:\n",
    "        if len(i) > max_len:\n",
    "            max_len = len(i)\n",
    "    new_arr = np.zeros((len(data),max_len))\n",
    "    for j in range(len(data)):\n",
    "        new_arr[j,:len(data[j])] = data[j]\n",
    "    return new_arr"
   ]
  },
  {
   "cell_type": "code",
   "execution_count": null,
   "metadata": {},
   "outputs": [],
   "source": [
    "max_len = 0\n",
    "for i in data:\n",
    "    if len(i) > max_len:\n",
    "        max_len = len(i)"
   ]
  },
  {
   "cell_type": "code",
   "execution_count": 53,
   "metadata": {},
   "outputs": [
    {
     "data": {
      "text/plain": [
       "3163"
      ]
     },
     "execution_count": 53,
     "metadata": {},
     "output_type": "execute_result"
    }
   ],
   "source": [
    "len(data)"
   ]
  },
  {
   "cell_type": "code",
   "execution_count": 55,
   "metadata": {},
   "outputs": [],
   "source": [
    "new_arr = np.zeros((len(data),max_len))"
   ]
  },
  {
   "cell_type": "code",
   "execution_count": 56,
   "metadata": {},
   "outputs": [],
   "source": [
    "for j in range(len(data)):\n",
    "    new_arr[j,:len(data[j])] = data[j]\n",
    "    "
   ]
  },
  {
   "cell_type": "code",
   "execution_count": 59,
   "metadata": {},
   "outputs": [],
   "source": [
    "import matplotlib.pyplot as plt"
   ]
  },
  {
   "cell_type": "code",
   "execution_count": 52,
   "metadata": {},
   "outputs": [
    {
     "ename": "NameError",
     "evalue": "name 'keras' is not defined",
     "output_type": "error",
     "traceback": [
      "\u001b[1;31m---------------------------------------------------------------------------\u001b[0m",
      "\u001b[1;31mNameError\u001b[0m                                 Traceback (most recent call last)",
      "\u001b[1;32mc:\\Users\\Bjorn\\Documents\\Github\\Heart-murmur-detection-2022-private\\new_nb_test.ipynb Cell 2\u001b[0m in \u001b[0;36m<cell line: 1>\u001b[1;34m()\u001b[0m\n\u001b[1;32m----> <a href='vscode-notebook-cell:/c%3A/Users/Bjorn/Documents/Github/Heart-murmur-detection-2022-private/new_nb_test.ipynb#ch0000015?line=0'>1</a>\u001b[0m keras\u001b[39m.\u001b[39mutils\u001b[39m.\u001b[39mpad_sequences(data, padding\u001b[39m=\u001b[39m\u001b[39m'\u001b[39m\u001b[39mpre\u001b[39m\u001b[39m'\u001b[39m, truncating\u001b[39m=\u001b[39m\u001b[39m'\u001b[39m\u001b[39mpre\u001b[39m\u001b[39m'\u001b[39m, value\u001b[39m=\u001b[39m\u001b[39m0.0\u001b[39m, maxlen\u001b[39m=\u001b[39m\u001b[39m32256\u001b[39m)\n",
      "\u001b[1;31mNameError\u001b[0m: name 'keras' is not defined"
     ]
    }
   ],
   "source": [
    "keras.utils.pad_sequences(data, padding='pre', truncating='pre', value=0.0, maxlen=32256)"
   ]
  },
  {
   "cell_type": "code",
   "execution_count": null,
   "metadata": {},
   "outputs": [],
   "source": []
  },
  {
   "cell_type": "code",
   "execution_count": 47,
   "metadata": {},
   "outputs": [],
   "source": [
    "max_len = 0\n",
    "for i in data:\n",
    "    if len(i) > max_len:\n",
    "        max_len = len(i)\n"
   ]
  },
  {
   "cell_type": "code",
   "execution_count": 48,
   "metadata": {},
   "outputs": [
    {
     "data": {
      "text/plain": [
       "32256"
      ]
     },
     "execution_count": 48,
     "metadata": {},
     "output_type": "execute_result"
    }
   ],
   "source": [
    "max_len"
   ]
  },
  {
   "cell_type": "code",
   "execution_count": 46,
   "metadata": {},
   "outputs": [
    {
     "data": {
      "text/plain": [
       "3163"
      ]
     },
     "execution_count": 46,
     "metadata": {},
     "output_type": "execute_result"
    }
   ],
   "source": [
    "len(murmurs)"
   ]
  },
  {
   "cell_type": "code",
   "execution_count": 42,
   "metadata": {},
   "outputs": [
    {
     "data": {
      "text/plain": [
       "(array([0, 1, 2], dtype=int64), array([ 616,  156, 2391], dtype=int64))"
      ]
     },
     "execution_count": 42,
     "metadata": {},
     "output_type": "execute_result"
    }
   ],
   "source": [
    "np.unique(np.argmax(murmurs, axis=1), return_counts=True)"
   ]
  },
  {
   "cell_type": "code",
   "execution_count": 76,
   "metadata": {},
   "outputs": [
    {
     "data": {
      "text/plain": [
       "(array([0, 1], dtype=int64), array([1531, 1632], dtype=int64))"
      ]
     },
     "execution_count": 76,
     "metadata": {},
     "output_type": "execute_result"
    }
   ],
   "source": [
    "np.unique(np.argmax(outcomes, axis=1), return_counts=True)"
   ]
  },
  {
   "cell_type": "code",
   "execution_count": 35,
   "metadata": {},
   "outputs": [
    {
     "data": {
      "text/plain": [
       "['nan']"
      ]
     },
     "execution_count": 35,
     "metadata": {},
     "output_type": "execute_result"
    }
   ],
   "source": [
    "get_murmur_locations(current_patient_data).split(\"+\")"
   ]
  },
  {
   "cell_type": "code",
   "execution_count": 79,
   "metadata": {},
   "outputs": [
    {
     "data": {
      "text/plain": [
       "array([0, 1, 2], dtype=int64)"
      ]
     },
     "execution_count": 79,
     "metadata": {},
     "output_type": "execute_result"
    }
   ],
   "source": [
    "np.argmax(np.array([[1,0,0],[0,1,0],[0,0,1]]),axis=1)"
   ]
  },
  {
   "cell_type": "code",
   "execution_count": 87,
   "metadata": {},
   "outputs": [
    {
     "data": {
      "text/plain": [
       "array([0.2       , 0.66666667, 0.13333333])"
      ]
     },
     "execution_count": 87,
     "metadata": {},
     "output_type": "execute_result"
    }
   ],
   "source": [
    "np.sum(np.array([[0.2,0.7,0.1],[0.3,0.5,0.2],[0.1,0.8,0.1]]),axis=0)/3"
   ]
  },
  {
   "cell_type": "code",
   "execution_count": 82,
   "metadata": {},
   "outputs": [
    {
     "data": {
      "text/plain": [
       "0.5599999999999999"
      ]
     },
     "execution_count": 82,
     "metadata": {},
     "output_type": "execute_result"
    }
   ],
   "source": [
    "np.sum(np.array([0.4,0.3,0.5,0.7,0.9]))/5"
   ]
  },
  {
   "cell_type": "code",
   "execution_count": null,
   "metadata": {},
   "outputs": [],
   "source": [
    "np.array([[1,0,0],[0,1,0],[0,0,1]])"
   ]
  },
  {
   "cell_type": "code",
   "execution_count": 19,
   "metadata": {},
   "outputs": [
    {
     "data": {
      "text/plain": [
       "'AV'"
      ]
     },
     "execution_count": 19,
     "metadata": {},
     "output_type": "execute_result"
    }
   ],
   "source": [
    "current_patient_data.split('\\n')[1:4+1][0].split(\" \")[0]"
   ]
  },
  {
   "cell_type": "code",
   "execution_count": 16,
   "metadata": {},
   "outputs": [
    {
     "data": {
      "text/plain": [
       "[array([1653, 3815, 3101, ...,  187,  348,   53], dtype=int16),\n",
       " array([32596, 28290,  8851, ...,  6449,  6299,  7167], dtype=int16),\n",
       " array([   244,  -3588, -22579, ...,   -207,   -205,   -204], dtype=int16),\n",
       " array([5039, 5952, 5754, ...,  344,  229,   87], dtype=int16)]"
      ]
     },
     "execution_count": 16,
     "metadata": {},
     "output_type": "execute_result"
    }
   ],
   "source": [
    "current_recordings"
   ]
  },
  {
   "cell_type": "code",
   "execution_count": 15,
   "metadata": {},
   "outputs": [
    {
     "data": {
      "text/plain": [
       "'9979 4 4000\\nAV 9979_AV.hea 9979_AV.wav 9979_AV.tsv\\nPV 9979_PV.hea 9979_PV.wav 9979_PV.tsv\\nTV 9979_TV.hea 9979_TV.wav 9979_TV.tsv\\nMV 9979_MV.hea 9979_MV.wav 9979_MV.tsv\\n#Age: Child\\n#Sex: Female\\n#Height: 103.0\\n#Weight: 13.1\\n#Pregnancy status: False\\n#Murmur: Present\\n#Murmur locations: AV+MV+PV+TV\\n#Most audible location: TV\\n#Systolic murmur timing: Holosystolic\\n#Systolic murmur shape: Diamond\\n#Systolic murmur grading: III/VI\\n#Systolic murmur pitch: High\\n#Systolic murmur quality: Harsh\\n#Diastolic murmur timing: nan\\n#Diastolic murmur shape: nan\\n#Diastolic murmur grading: nan\\n#Diastolic murmur pitch: nan\\n#Diastolic murmur quality: nan\\n#Outcome: Abnormal\\n#Campaign: CC2015\\n#Additional ID: nan\\n'"
      ]
     },
     "execution_count": 15,
     "metadata": {},
     "output_type": "execute_result"
    }
   ],
   "source": [
    "load_patient_data(patient_files[i])"
   ]
  },
  {
   "cell_type": "code",
   "execution_count": 23,
   "metadata": {},
   "outputs": [],
   "source": [
    "current_location = current_patient_data.split('\\n')[1:len(current_recordings)+1][j].split(\" \")[0]"
   ]
  },
  {
   "cell_type": "code",
   "execution_count": 24,
   "metadata": {},
   "outputs": [],
   "source": [
    "all_murmur_locations = get_murmur_locations(current_patient_data).split(\"+\")"
   ]
  },
  {
   "cell_type": "code",
   "execution_count": 28,
   "metadata": {},
   "outputs": [
    {
     "data": {
      "text/plain": [
       "False"
      ]
     },
     "execution_count": 28,
     "metadata": {},
     "output_type": "execute_result"
    }
   ],
   "source": [
    "current_location in all_murmur_locations"
   ]
  },
  {
   "cell_type": "code",
   "execution_count": 9,
   "metadata": {},
   "outputs": [
    {
     "data": {
      "text/plain": [
       "'50635 4 4000\\nAV 50635_AV.hea 50635_AV.wav 50635_AV.tsv\\nPV 50635_PV.hea 50635_PV.wav 50635_PV.tsv\\nTV 50635_TV.hea 50635_TV.wav 50635_TV.tsv\\nMV 50635_MV.hea 50635_MV.wav 50635_MV.tsv\\n#Age: nan\\n#Sex: Female\\n#Height: nan\\n#Weight: nan\\n#Pregnancy status: True\\n#Murmur: Absent\\n#Murmur locations: nan\\n#Most audible location: nan\\n#Systolic murmur timing: nan\\n#Systolic murmur shape: nan\\n#Systolic murmur grading: nan\\n#Systolic murmur pitch: nan\\n#Systolic murmur quality: nan\\n#Diastolic murmur timing: nan\\n#Diastolic murmur shape: nan\\n#Diastolic murmur grading: nan\\n#Diastolic murmur pitch: nan\\n#Diastolic murmur quality: nan\\n#Outcome: Normal\\n#Campaign: CC2014\\n#Additional ID: nan\\n'"
      ]
     },
     "execution_count": 9,
     "metadata": {},
     "output_type": "execute_result"
    }
   ],
   "source": [
    "current_patient_data"
   ]
  },
  {
   "cell_type": "code",
   "execution_count": 8,
   "metadata": {},
   "outputs": [
    {
     "data": {
      "text/plain": [
       "'Absent'"
      ]
     },
     "execution_count": 8,
     "metadata": {},
     "output_type": "execute_result"
    }
   ],
   "source": [
    "murmur = get_murmur(current_patient_data)\n",
    "murmur"
   ]
  },
  {
   "cell_type": "code",
   "execution_count": null,
   "metadata": {},
   "outputs": [],
   "source": [
    "    current_murmur = np.zeros(num_murmur_classes, dtype=int)\n",
    "    murmur = get_murmur(current_patient_data)\n",
    "    if murmur in murmur_classes:\n",
    "        j = murmur_classes.index(murmur)\n",
    "        current_murmur[j] = 1\n",
    "    murmurs.append(current_murmur)"
   ]
  }
 ],
 "metadata": {
  "kernelspec": {
   "display_name": "Python 3.9.12 ('new_tf')",
   "language": "python",
   "name": "python3"
  },
  "language_info": {
   "codemirror_mode": {
    "name": "ipython",
    "version": 3
   },
   "file_extension": ".py",
   "mimetype": "text/x-python",
   "name": "python",
   "nbconvert_exporter": "python",
   "pygments_lexer": "ipython3",
   "version": "3.9.12"
  },
  "orig_nbformat": 4,
  "vscode": {
   "interpreter": {
    "hash": "81dc1ec217f909c38e5ae243ef69d513d8afbbda1378a4910b902bfe00eb3e7d"
   }
  }
 },
 "nbformat": 4,
 "nbformat_minor": 2
}
