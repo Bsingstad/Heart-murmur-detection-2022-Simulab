{
  "cells": [
    {
      "cell_type": "code",
      "execution_count": 1,
      "metadata": {
        "colab": {
          "base_uri": "https://localhost:8080/"
        },
        "id": "GRmi1FbhCDW0",
        "outputId": "a74073c7-3529-412f-a255-8662c4b99284"
      },
      "outputs": [
        {
          "output_type": "stream",
          "name": "stdout",
          "text": [
            "Looking in indexes: https://pypi.org/simple, https://us-python.pkg.dev/colab-wheels/public/simple/\n",
            "Collecting GitPython\n",
            "  Downloading GitPython-3.1.27-py3-none-any.whl (181 kB)\n",
            "\u001b[K     |████████████████████████████████| 181 kB 29.4 MB/s \n",
            "\u001b[?25hCollecting gitdb<5,>=4.0.1\n",
            "  Downloading gitdb-4.0.9-py3-none-any.whl (63 kB)\n",
            "\u001b[K     |████████████████████████████████| 63 kB 2.2 MB/s \n",
            "\u001b[?25hRequirement already satisfied: typing-extensions>=3.7.4.3 in /usr/local/lib/python3.7/dist-packages (from GitPython) (4.1.1)\n",
            "Collecting smmap<6,>=3.0.1\n",
            "  Downloading smmap-5.0.0-py3-none-any.whl (24 kB)\n",
            "Installing collected packages: smmap, gitdb, GitPython\n",
            "Successfully installed GitPython-3.1.27 gitdb-4.0.9 smmap-5.0.0\n"
          ]
        }
      ],
      "source": [
        "!pip install GitPython\n",
        "from git import Repo"
      ]
    },
    {
      "cell_type": "code",
      "execution_count": 2,
      "metadata": {
        "id": "BQL6lPD0CVgh"
      },
      "outputs": [],
      "source": [
        "HTTPS_REMOTE_URL = 'https://github.com/Bsingstad/Heart-murmur-detection-2022-Simulab.git'\n",
        "DEST_NAME = 'heart_murmurs'\n",
        "cloned_repo = Repo.clone_from(HTTPS_REMOTE_URL, DEST_NAME)"
      ]
    },
    {
      "cell_type": "code",
      "execution_count": 3,
      "metadata": {
        "colab": {
          "base_uri": "https://localhost:8080/"
        },
        "id": "FBMgQeTjCkuf",
        "outputId": "8b63b1e8-546b-4c4c-a85d-1eb636cb8000"
      },
      "outputs": [
        {
          "output_type": "stream",
          "name": "stdout",
          "text": [
            "Looking in indexes: https://pypi.org/simple, https://us-python.pkg.dev/colab-wheels/public/simple/\n",
            "Collecting wget\n",
            "  Downloading wget-3.2.zip (10 kB)\n",
            "Building wheels for collected packages: wget\n",
            "  Building wheel for wget (setup.py) ... \u001b[?25l\u001b[?25hdone\n",
            "  Created wheel for wget: filename=wget-3.2-py3-none-any.whl size=9675 sha256=02253d033c60476c11e2d477487ccaa7d14b6557b17fabd0f1a262877ba0a2e1\n",
            "  Stored in directory: /root/.cache/pip/wheels/a1/b6/7c/0e63e34eb06634181c63adacca38b79ff8f35c37e3c13e3c02\n",
            "Successfully built wget\n",
            "Installing collected packages: wget\n",
            "Successfully installed wget-3.2\n"
          ]
        }
      ],
      "source": [
        "!pip install wget"
      ]
    },
    {
      "cell_type": "code",
      "execution_count": 4,
      "metadata": {
        "colab": {
          "base_uri": "https://localhost:8080/"
        },
        "id": "bQuh1VhrC39v",
        "outputId": "ef7679c7-32bd-47d3-bc54-2f2eb8454fc9"
      },
      "outputs": [
        {
          "output_type": "stream",
          "name": "stdout",
          "text": [
            "kaggle.json\n",
            "/bin/bash: -c: line 0: unexpected EOF while looking for matching `''\n",
            "/bin/bash: -c: line 1: syntax error: unexpected end of file\n"
          ]
        }
      ],
      "source": [
        "!mkdir -p ~/.kaggle\n",
        "!cp kaggle.json ~/.kaggle/\n",
        "!ls ~/.kaggle\n",
        "!chmod 600 /root/.kaggle/kaggle.json'"
      ]
    },
    {
      "cell_type": "code",
      "execution_count": 5,
      "metadata": {
        "colab": {
          "base_uri": "https://localhost:8080/"
        },
        "id": "sW10TQKSC1MW",
        "outputId": "29ea0b73-6b62-43ed-f9da-153299564c59"
      },
      "outputs": [
        {
          "output_type": "stream",
          "name": "stdout",
          "text": [
            "Warning: Your Kaggle API key is readable by other users on this system! To fix this, you can run 'chmod 600 /root/.kaggle/kaggle.json'\n",
            "Downloading the-circor-digiscope-phonocardiogram-dataset-v2.zip to /content\n",
            " 99% 445M/449M [00:06<00:00, 130MB/s]\n",
            "100% 449M/449M [00:06<00:00, 71.9MB/s]\n"
          ]
        }
      ],
      "source": [
        "!kaggle datasets download -d bjoernjostein/the-circor-digiscope-phonocardiogram-dataset-v2"
      ]
    },
    {
      "cell_type": "code",
      "execution_count": 6,
      "metadata": {
        "id": "uiitcpLxDBWm"
      },
      "outputs": [],
      "source": [
        "import os, zipfile\n",
        "try:\n",
        "  os.mkdir(\"/content/data/\")\n",
        "except:\n",
        "  print(\"data folder allready exists\")"
      ]
    },
    {
      "cell_type": "code",
      "execution_count": 7,
      "metadata": {
        "id": "nKKUjHdSQqym"
      },
      "outputs": [],
      "source": [
        "import os, zipfile\n",
        "\n",
        "dir_name = \"/content/\"\n",
        "target_dir = \"/content/data/\"\n",
        "extension = \".zip\"\n",
        " \n",
        "os.chdir(dir_name) # change directory from working dir to dir with files\n",
        "\n",
        "for item in os.listdir(dir_name): # loop through items in dir\n",
        "    if item.endswith(extension): # check for \".zip\" extension\n",
        "        file_name = os.path.abspath(item) # get full path of files\n",
        "        zip_ref = zipfile.ZipFile(file_name) # create zipfile object\n",
        "        zip_ref.extractall(target_dir) # extract file to dir\n",
        "        zip_ref.close() # close file\n",
        "        os.remove(file_name) # delete zipped file"
      ]
    },
    {
      "cell_type": "code",
      "execution_count": 8,
      "metadata": {
        "id": "CWiDsltwE-rg"
      },
      "outputs": [],
      "source": [
        "os.mknod(\"/content/heart_murmurs/__init__.py\")"
      ]
    },
    {
      "cell_type": "code",
      "execution_count": 9,
      "metadata": {
        "id": "H4vxg6fhmoLP"
      },
      "outputs": [],
      "source": [
        "def replace_line(file_name, line_num, text):\n",
        "    lines = open(file_name, 'r').readlines()\n",
        "    lines[line_num] = text\n",
        "    out = open(file_name, 'w')\n",
        "    out.writelines(lines)\n",
        "    out.close()"
      ]
    },
    {
      "cell_type": "code",
      "execution_count": 10,
      "metadata": {
        "id": "5QunscIlmr3y"
      },
      "outputs": [],
      "source": [
        "replace_line('/content/heart_murmurs/run_model.py',12,\"from .helper_code import * \\n\")\n",
        "replace_line('/content/heart_murmurs/run_model.py',13,\"from .team_code import load_challenge_model, run_challenge_model \\n\")\n",
        "replace_line('/content/heart_murmurs/cross_validate.py',15,\"from .helper_code import * \\n\")\n",
        "replace_line('/content/heart_murmurs/evaluate_model.py',16,\"from .helper_code import load_patient_data, get_murmur, get_outcome, load_challenge_outputs, compare_strings \\n\")\n",
        "replace_line('/content/heart_murmurs/cross_validate.py',16,\"from .team_code import base_model, load_challenge_model, build_murmur_model, build_clinical_model, scheduler, scheduler_2, get_murmur_locations, pad_array, calculating_class_weights \\n\")\n",
        "replace_line('/content/heart_murmurs/team_code.py',11,\"from .helper_code import * \\n\")\n",
        "replace_line('/content/heart_murmurs/train_model.py',11,\"from .helper_code import is_integer \\n\")\n",
        "replace_line('/content/heart_murmurs/train_model.py',12,\"from .team_code import train_challenge_model \\n\")\n"
      ]
    },
    {
      "cell_type": "code",
      "execution_count": 11,
      "metadata": {
        "id": "1o9J_FbaGCxu"
      },
      "outputs": [],
      "source": [
        "%load_ext autoreload\n",
        "%autoreload\n",
        "%reload_ext autoreload"
      ]
    },
    {
      "cell_type": "code",
      "execution_count": 12,
      "metadata": {
        "id": "eVbI2ZbZDyWA"
      },
      "outputs": [],
      "source": [
        "from heart_murmurs.helper_code import *\n",
        "\n",
        "# have to add a \".\" in from of the module imports (in the scrips:train_model, run_model and team_code )\n",
        "from heart_murmurs.train_model import *\n",
        "from heart_murmurs.run_model import *\n",
        "from heart_murmurs.team_code import *\n",
        "from heart_murmurs.evaluate_model import *\n",
        "from heart_murmurs.cross_validate import *"
      ]
    },
    {
      "cell_type": "code",
      "execution_count": 14,
      "metadata": {
        "id": "AxvEca5vsn53"
      },
      "outputs": [],
      "source": [
        "try:\n",
        "  os.mkdir(\"/content/results/\")\n",
        "except:\n",
        "  print(\"results folder allreadu exists\")"
      ]
    },
    {
      "cell_type": "code",
      "source": [
        "train_challenge_model(\"/content/data/training_data/training_data/\", \"/content/models/\", 1)"
      ],
      "metadata": {
        "colab": {
          "base_uri": "https://localhost:8080/"
        },
        "id": "UmtD4-izCLST",
        "outputId": "3b116a4a-4b48-4449-aec1-599572ed6fed"
      },
      "execution_count": null,
      "outputs": [
        {
          "output_type": "stream",
          "name": "stdout",
          "text": [
            "Finding data files...\n",
            "Extracting features and labels from the Challenge data...\n"
          ]
        },
        {
          "output_type": "stream",
          "name": "stderr",
          "text": [
            "100%|██████████| 942/942 [00:20<00:00, 46.09it/s]\n"
          ]
        },
        {
          "output_type": "stream",
          "name": "stdout",
          "text": [
            "Number of signals = 3163\n",
            "Murmurs prevalence:\n",
            "Present = 616, Unknown = 156, Absent = 2391\n",
            "Outcomes prevalence:\n",
            "Abnormal = 1531, Normal = 1632\n",
            "Epoch 1/30\n",
            "159/159 [==============================] - 96s 468ms/step - loss: 1.5986 - categorical_accuracy: 0.3301 - auc_1: 0.5626\n",
            "Epoch 2/30\n",
            "118/159 [=====================>........] - ETA: 20s - loss: 1.5578 - categorical_accuracy: 0.3271 - auc_1: 0.5681"
          ]
        }
      ]
    },
    {
      "cell_type": "code",
      "source": [
        "try:\n",
        "  os.mkdir(\"/content/output/\")\n",
        "except:\n",
        "  print(\"output folder allready exist..\")"
      ],
      "metadata": {
        "id": "BekYnV7PCZhS"
      },
      "execution_count": null,
      "outputs": []
    },
    {
      "cell_type": "code",
      "source": [
        "run_model(\"/content/models/\", \"/content/data/training_data/training_data/\", \"/content/output/\", allow_failures=True, verbose=1)"
      ],
      "metadata": {
        "id": "rt78LmzuCizo"
      },
      "execution_count": null,
      "outputs": []
    },
    {
      "cell_type": "code",
      "source": [
        "evaluate_model(\"/content/data/training_data/training_data/\", \"/content/output/\")"
      ],
      "metadata": {
        "id": "nndqnLY1Cm9e"
      },
      "execution_count": null,
      "outputs": []
    }
  ],
  "metadata": {
    "accelerator": "GPU",
    "colab": {
      "name": "execute_training_pipeline.ipynb",
      "provenance": []
    },
    "gpuClass": "standard",
    "kernelspec": {
      "display_name": "Python 3.8.13 ('moody_tf')",
      "language": "python",
      "name": "python3"
    },
    "language_info": {
      "name": "python",
      "version": "3.8.13"
    },
    "orig_nbformat": 4,
    "vscode": {
      "interpreter": {
        "hash": "74583c63aac1e7f106966fcb7023fdbc6cc518817ac509f557e16d75a606cf95"
      }
    }
  },
  "nbformat": 4,
  "nbformat_minor": 0
}