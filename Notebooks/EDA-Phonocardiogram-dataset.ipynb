{
 "cells": [
  {
   "cell_type": "code",
   "execution_count": 2,
   "metadata": {},
   "outputs": [],
   "source": [
    "import pandas as pd\n",
    "import numpy as np\n",
    "import matplotlib.pyplot as plt\n",
    "import seaborn as sns\n",
    "%matplotlib inline\n",
    "sns.set_theme(style=\"whitegrid\")"
   ]
  },
  {
   "cell_type": "markdown",
   "metadata": {},
   "source": [
    "# Loading the training data"
   ]
  },
  {
   "cell_type": "code",
   "execution_count": 3,
   "metadata": {},
   "outputs": [
    {
     "data": {
      "text/html": [
       "<div>\n",
       "<style scoped>\n",
       "    .dataframe tbody tr th:only-of-type {\n",
       "        vertical-align: middle;\n",
       "    }\n",
       "\n",
       "    .dataframe tbody tr th {\n",
       "        vertical-align: top;\n",
       "    }\n",
       "\n",
       "    .dataframe thead th {\n",
       "        text-align: right;\n",
       "    }\n",
       "</style>\n",
       "<table border=\"1\" class=\"dataframe\">\n",
       "  <thead>\n",
       "    <tr style=\"text-align: right;\">\n",
       "      <th></th>\n",
       "      <th>Patient ID</th>\n",
       "      <th>Locations</th>\n",
       "      <th>Age</th>\n",
       "      <th>Sex</th>\n",
       "      <th>Height</th>\n",
       "      <th>Weight</th>\n",
       "      <th>Pregnancy status</th>\n",
       "      <th>Murmur</th>\n",
       "      <th>Murmur locations</th>\n",
       "      <th>Most audible location</th>\n",
       "      <th>...</th>\n",
       "      <th>Systolic murmur grading</th>\n",
       "      <th>Systolic murmur pitch</th>\n",
       "      <th>Systolic murmur quality</th>\n",
       "      <th>Diastolic murmur timing</th>\n",
       "      <th>Diastolic murmur shape</th>\n",
       "      <th>Diastolic murmur grading</th>\n",
       "      <th>Diastolic murmur pitch</th>\n",
       "      <th>Diastolic murmur quality</th>\n",
       "      <th>Campaign</th>\n",
       "      <th>Additional ID</th>\n",
       "    </tr>\n",
       "  </thead>\n",
       "  <tbody>\n",
       "    <tr>\n",
       "      <th>0</th>\n",
       "      <td>2530</td>\n",
       "      <td>AV+PV+TV+MV</td>\n",
       "      <td>Child</td>\n",
       "      <td>Female</td>\n",
       "      <td>98.0</td>\n",
       "      <td>15.90</td>\n",
       "      <td>False</td>\n",
       "      <td>Absent</td>\n",
       "      <td>NaN</td>\n",
       "      <td>NaN</td>\n",
       "      <td>...</td>\n",
       "      <td>NaN</td>\n",
       "      <td>NaN</td>\n",
       "      <td>NaN</td>\n",
       "      <td>NaN</td>\n",
       "      <td>NaN</td>\n",
       "      <td>NaN</td>\n",
       "      <td>NaN</td>\n",
       "      <td>NaN</td>\n",
       "      <td>CC2015</td>\n",
       "      <td>NaN</td>\n",
       "    </tr>\n",
       "    <tr>\n",
       "      <th>1</th>\n",
       "      <td>9979</td>\n",
       "      <td>AV+PV+TV+MV</td>\n",
       "      <td>Child</td>\n",
       "      <td>Female</td>\n",
       "      <td>103.0</td>\n",
       "      <td>13.10</td>\n",
       "      <td>False</td>\n",
       "      <td>Present</td>\n",
       "      <td>AV+MV+PV+TV</td>\n",
       "      <td>TV</td>\n",
       "      <td>...</td>\n",
       "      <td>III/VI</td>\n",
       "      <td>High</td>\n",
       "      <td>Harsh</td>\n",
       "      <td>NaN</td>\n",
       "      <td>NaN</td>\n",
       "      <td>NaN</td>\n",
       "      <td>NaN</td>\n",
       "      <td>NaN</td>\n",
       "      <td>CC2015</td>\n",
       "      <td>NaN</td>\n",
       "    </tr>\n",
       "    <tr>\n",
       "      <th>2</th>\n",
       "      <td>9983</td>\n",
       "      <td>AV+PV+TV+MV</td>\n",
       "      <td>Child</td>\n",
       "      <td>Male</td>\n",
       "      <td>115.0</td>\n",
       "      <td>19.10</td>\n",
       "      <td>False</td>\n",
       "      <td>Unknown</td>\n",
       "      <td>NaN</td>\n",
       "      <td>NaN</td>\n",
       "      <td>...</td>\n",
       "      <td>NaN</td>\n",
       "      <td>NaN</td>\n",
       "      <td>NaN</td>\n",
       "      <td>NaN</td>\n",
       "      <td>NaN</td>\n",
       "      <td>NaN</td>\n",
       "      <td>NaN</td>\n",
       "      <td>NaN</td>\n",
       "      <td>CC2015</td>\n",
       "      <td>NaN</td>\n",
       "    </tr>\n",
       "    <tr>\n",
       "      <th>3</th>\n",
       "      <td>13918</td>\n",
       "      <td>AV+PV+TV+MV</td>\n",
       "      <td>Child</td>\n",
       "      <td>Male</td>\n",
       "      <td>98.0</td>\n",
       "      <td>15.90</td>\n",
       "      <td>False</td>\n",
       "      <td>Present</td>\n",
       "      <td>TV</td>\n",
       "      <td>TV</td>\n",
       "      <td>...</td>\n",
       "      <td>I/VI</td>\n",
       "      <td>Low</td>\n",
       "      <td>Blowing</td>\n",
       "      <td>NaN</td>\n",
       "      <td>NaN</td>\n",
       "      <td>NaN</td>\n",
       "      <td>NaN</td>\n",
       "      <td>NaN</td>\n",
       "      <td>CC2015</td>\n",
       "      <td>NaN</td>\n",
       "    </tr>\n",
       "    <tr>\n",
       "      <th>4</th>\n",
       "      <td>14241</td>\n",
       "      <td>AV+PV+TV+MV</td>\n",
       "      <td>Child</td>\n",
       "      <td>Male</td>\n",
       "      <td>87.0</td>\n",
       "      <td>11.20</td>\n",
       "      <td>False</td>\n",
       "      <td>Present</td>\n",
       "      <td>AV+MV+PV+TV</td>\n",
       "      <td>PV</td>\n",
       "      <td>...</td>\n",
       "      <td>II/VI</td>\n",
       "      <td>Low</td>\n",
       "      <td>Harsh</td>\n",
       "      <td>NaN</td>\n",
       "      <td>NaN</td>\n",
       "      <td>NaN</td>\n",
       "      <td>NaN</td>\n",
       "      <td>NaN</td>\n",
       "      <td>CC2015</td>\n",
       "      <td>NaN</td>\n",
       "    </tr>\n",
       "    <tr>\n",
       "      <th>5</th>\n",
       "      <td>14998</td>\n",
       "      <td>AV+PV+TV+MV</td>\n",
       "      <td>Child</td>\n",
       "      <td>Male</td>\n",
       "      <td>NaN</td>\n",
       "      <td>NaN</td>\n",
       "      <td>False</td>\n",
       "      <td>Absent</td>\n",
       "      <td>NaN</td>\n",
       "      <td>NaN</td>\n",
       "      <td>...</td>\n",
       "      <td>NaN</td>\n",
       "      <td>NaN</td>\n",
       "      <td>NaN</td>\n",
       "      <td>NaN</td>\n",
       "      <td>NaN</td>\n",
       "      <td>NaN</td>\n",
       "      <td>NaN</td>\n",
       "      <td>NaN</td>\n",
       "      <td>CC2015</td>\n",
       "      <td>NaN</td>\n",
       "    </tr>\n",
       "    <tr>\n",
       "      <th>6</th>\n",
       "      <td>23625</td>\n",
       "      <td>AV+PV+TV+MV</td>\n",
       "      <td>Child</td>\n",
       "      <td>Female</td>\n",
       "      <td>92.0</td>\n",
       "      <td>14.00</td>\n",
       "      <td>False</td>\n",
       "      <td>Absent</td>\n",
       "      <td>NaN</td>\n",
       "      <td>NaN</td>\n",
       "      <td>...</td>\n",
       "      <td>NaN</td>\n",
       "      <td>NaN</td>\n",
       "      <td>NaN</td>\n",
       "      <td>NaN</td>\n",
       "      <td>NaN</td>\n",
       "      <td>NaN</td>\n",
       "      <td>NaN</td>\n",
       "      <td>NaN</td>\n",
       "      <td>CC2015</td>\n",
       "      <td>50379.0</td>\n",
       "    </tr>\n",
       "    <tr>\n",
       "      <th>7</th>\n",
       "      <td>24160</td>\n",
       "      <td>AV+PV+TV+MV</td>\n",
       "      <td>Child</td>\n",
       "      <td>Female</td>\n",
       "      <td>98.0</td>\n",
       "      <td>17.66</td>\n",
       "      <td>False</td>\n",
       "      <td>Absent</td>\n",
       "      <td>NaN</td>\n",
       "      <td>NaN</td>\n",
       "      <td>...</td>\n",
       "      <td>NaN</td>\n",
       "      <td>NaN</td>\n",
       "      <td>NaN</td>\n",
       "      <td>NaN</td>\n",
       "      <td>NaN</td>\n",
       "      <td>NaN</td>\n",
       "      <td>NaN</td>\n",
       "      <td>NaN</td>\n",
       "      <td>CC2015</td>\n",
       "      <td>NaN</td>\n",
       "    </tr>\n",
       "    <tr>\n",
       "      <th>8</th>\n",
       "      <td>29045</td>\n",
       "      <td>AV+PV+TV+MV</td>\n",
       "      <td>Child</td>\n",
       "      <td>Female</td>\n",
       "      <td>88.0</td>\n",
       "      <td>12.50</td>\n",
       "      <td>False</td>\n",
       "      <td>Present</td>\n",
       "      <td>AV+MV+PV+TV</td>\n",
       "      <td>TV</td>\n",
       "      <td>...</td>\n",
       "      <td>II/VI</td>\n",
       "      <td>Low</td>\n",
       "      <td>Blowing</td>\n",
       "      <td>NaN</td>\n",
       "      <td>NaN</td>\n",
       "      <td>NaN</td>\n",
       "      <td>NaN</td>\n",
       "      <td>NaN</td>\n",
       "      <td>CC2015</td>\n",
       "      <td>NaN</td>\n",
       "    </tr>\n",
       "    <tr>\n",
       "      <th>9</th>\n",
       "      <td>29378</td>\n",
       "      <td>AV+MV</td>\n",
       "      <td>Child</td>\n",
       "      <td>Female</td>\n",
       "      <td>82.0</td>\n",
       "      <td>10.70</td>\n",
       "      <td>False</td>\n",
       "      <td>Unknown</td>\n",
       "      <td>NaN</td>\n",
       "      <td>NaN</td>\n",
       "      <td>...</td>\n",
       "      <td>NaN</td>\n",
       "      <td>NaN</td>\n",
       "      <td>NaN</td>\n",
       "      <td>NaN</td>\n",
       "      <td>NaN</td>\n",
       "      <td>NaN</td>\n",
       "      <td>NaN</td>\n",
       "      <td>NaN</td>\n",
       "      <td>CC2015</td>\n",
       "      <td>NaN</td>\n",
       "    </tr>\n",
       "  </tbody>\n",
       "</table>\n",
       "<p>10 rows × 22 columns</p>\n",
       "</div>"
      ],
      "text/plain": [
       "   Patient ID    Locations    Age     Sex  Height  Weight  Pregnancy status  \\\n",
       "0        2530  AV+PV+TV+MV  Child  Female    98.0   15.90             False   \n",
       "1        9979  AV+PV+TV+MV  Child  Female   103.0   13.10             False   \n",
       "2        9983  AV+PV+TV+MV  Child    Male   115.0   19.10             False   \n",
       "3       13918  AV+PV+TV+MV  Child    Male    98.0   15.90             False   \n",
       "4       14241  AV+PV+TV+MV  Child    Male    87.0   11.20             False   \n",
       "5       14998  AV+PV+TV+MV  Child    Male     NaN     NaN             False   \n",
       "6       23625  AV+PV+TV+MV  Child  Female    92.0   14.00             False   \n",
       "7       24160  AV+PV+TV+MV  Child  Female    98.0   17.66             False   \n",
       "8       29045  AV+PV+TV+MV  Child  Female    88.0   12.50             False   \n",
       "9       29378        AV+MV  Child  Female    82.0   10.70             False   \n",
       "\n",
       "    Murmur Murmur locations Most audible location  ...  \\\n",
       "0   Absent              NaN                   NaN  ...   \n",
       "1  Present      AV+MV+PV+TV                    TV  ...   \n",
       "2  Unknown              NaN                   NaN  ...   \n",
       "3  Present               TV                    TV  ...   \n",
       "4  Present      AV+MV+PV+TV                    PV  ...   \n",
       "5   Absent              NaN                   NaN  ...   \n",
       "6   Absent              NaN                   NaN  ...   \n",
       "7   Absent              NaN                   NaN  ...   \n",
       "8  Present      AV+MV+PV+TV                    TV  ...   \n",
       "9  Unknown              NaN                   NaN  ...   \n",
       "\n",
       "  Systolic murmur grading Systolic murmur pitch Systolic murmur quality  \\\n",
       "0                     NaN                   NaN                     NaN   \n",
       "1                  III/VI                  High                   Harsh   \n",
       "2                     NaN                   NaN                     NaN   \n",
       "3                    I/VI                   Low                 Blowing   \n",
       "4                   II/VI                   Low                   Harsh   \n",
       "5                     NaN                   NaN                     NaN   \n",
       "6                     NaN                   NaN                     NaN   \n",
       "7                     NaN                   NaN                     NaN   \n",
       "8                   II/VI                   Low                 Blowing   \n",
       "9                     NaN                   NaN                     NaN   \n",
       "\n",
       "  Diastolic murmur timing Diastolic murmur shape Diastolic murmur grading  \\\n",
       "0                     NaN                    NaN                      NaN   \n",
       "1                     NaN                    NaN                      NaN   \n",
       "2                     NaN                    NaN                      NaN   \n",
       "3                     NaN                    NaN                      NaN   \n",
       "4                     NaN                    NaN                      NaN   \n",
       "5                     NaN                    NaN                      NaN   \n",
       "6                     NaN                    NaN                      NaN   \n",
       "7                     NaN                    NaN                      NaN   \n",
       "8                     NaN                    NaN                      NaN   \n",
       "9                     NaN                    NaN                      NaN   \n",
       "\n",
       "  Diastolic murmur pitch Diastolic murmur quality Campaign Additional ID  \n",
       "0                    NaN                      NaN   CC2015           NaN  \n",
       "1                    NaN                      NaN   CC2015           NaN  \n",
       "2                    NaN                      NaN   CC2015           NaN  \n",
       "3                    NaN                      NaN   CC2015           NaN  \n",
       "4                    NaN                      NaN   CC2015           NaN  \n",
       "5                    NaN                      NaN   CC2015           NaN  \n",
       "6                    NaN                      NaN   CC2015       50379.0  \n",
       "7                    NaN                      NaN   CC2015           NaN  \n",
       "8                    NaN                      NaN   CC2015           NaN  \n",
       "9                    NaN                      NaN   CC2015           NaN  \n",
       "\n",
       "[10 rows x 22 columns]"
      ]
     },
     "execution_count": 3,
     "metadata": {},
     "output_type": "execute_result"
    }
   ],
   "source": [
    "train_data = pd.read_csv(r\"C:\\Users\\hp\\Downloads\\archive (4)\\training_data.csv\")\n",
    "train_data.head(10) "
   ]
  },
  {
   "cell_type": "markdown",
   "metadata": {},
   "source": [
    "# Basic summary of the dataset\n"
   ]
  },
  {
   "cell_type": "code",
   "execution_count": 6,
   "metadata": {},
   "outputs": [
    {
     "name": "stdout",
     "output_type": "stream",
     "text": [
      "<class 'pandas.core.frame.DataFrame'>\n",
      "RangeIndex: 942 entries, 0 to 941\n",
      "Data columns (total 22 columns):\n",
      " #   Column                    Non-Null Count  Dtype  \n",
      "---  ------                    --------------  -----  \n",
      " 0   Patient ID                942 non-null    int64  \n",
      " 1   Locations                 942 non-null    object \n",
      " 2   Age                       868 non-null    object \n",
      " 3   Sex                       942 non-null    object \n",
      " 4   Height                    826 non-null    float64\n",
      " 5   Weight                    837 non-null    float64\n",
      " 6   Pregnancy status          942 non-null    bool   \n",
      " 7   Murmur                    942 non-null    object \n",
      " 8   Murmur locations          179 non-null    object \n",
      " 9   Most audible location     179 non-null    object \n",
      " 10  Systolic murmur timing    178 non-null    object \n",
      " 11  Systolic murmur shape     178 non-null    object \n",
      " 12  Systolic murmur grading   178 non-null    object \n",
      " 13  Systolic murmur pitch     178 non-null    object \n",
      " 14  Systolic murmur quality   178 non-null    object \n",
      " 15  Diastolic murmur timing   5 non-null      object \n",
      " 16  Diastolic murmur shape    5 non-null      object \n",
      " 17  Diastolic murmur grading  5 non-null      object \n",
      " 18  Diastolic murmur pitch    5 non-null      object \n",
      " 19  Diastolic murmur quality  5 non-null      object \n",
      " 20  Campaign                  942 non-null    object \n",
      " 21  Additional ID             140 non-null    float64\n",
      "dtypes: bool(1), float64(3), int64(1), object(17)\n",
      "memory usage: 155.6+ KB\n",
      "None\n",
      "         Patient ID      Height      Weight  Additional ID\n",
      "count    942.000000  826.000000  837.000000     140.000000\n",
      "mean   66624.319533  110.800242   23.632756   58208.735714\n",
      "std    16966.858912   30.000607   15.453337   10216.094378\n",
      "min     2530.000000   35.000000    2.300000   23625.000000\n",
      "25%    50263.250000   89.000000   12.500000   50092.000000\n",
      "50%    68452.500000  115.000000   20.400000   50661.500000\n",
      "75%    84938.500000  133.000000   31.200000   68466.250000\n",
      "max    85349.000000  180.000000  110.800000   85234.000000\n"
     ]
    }
   ],
   "source": [
    "print(train_data.info())\n",
    "print(train_data.describe())"
   ]
  },
  {
   "cell_type": "markdown",
   "metadata": {},
   "source": [
    "# Observations from the basic summary\n",
    "\n",
    "1. There are 22 columns in this dataset\n",
    "2. Out of these columns, there exist bool, int, float, object data types\n",
    "3. Only six columns do not have missing values\n",
    "\n"
   ]
  },
  {
   "cell_type": "markdown",
   "metadata": {},
   "source": [
    "# Relationship between patient age and their murmur classification"
   ]
  },
  {
   "cell_type": "code",
   "execution_count": 172,
   "metadata": {},
   "outputs": [
    {
     "name": "stdout",
     "output_type": "stream",
     "text": [
      "             Murmur\n",
      "Age                \n",
      "Adolescent       69\n",
      "Child           649\n",
      "Infant          211\n",
      "Neonate           6\n",
      "Young Adult       7\n",
      "*****************************************************\n",
      "         Age\n",
      "Murmur      \n",
      "Absent   695\n",
      "Present  179\n",
      "Unknown   68\n",
      "**********************************************\n",
      "            Age   Murmur  count_total\n",
      "0    Adolescent   Absent           49\n",
      "1    Adolescent  Present           17\n",
      "2    Adolescent  Unknown            3\n",
      "3         Child   Absent          497\n",
      "4         Child  Present          122\n",
      "5         Child  Unknown           30\n",
      "6        Infant   Absent          139\n",
      "7        Infant  Present           38\n",
      "8        Infant  Unknown           34\n",
      "9       Neonate   Absent            4\n",
      "10      Neonate  Present            1\n",
      "11      Neonate  Unknown            1\n",
      "12  Young Adult   Absent            6\n",
      "13  Young Adult  Present            1\n",
      "**************************************************\n"
     ]
    },
    {
     "data": {
      "text/plain": [
       "<AxesSubplot:xlabel='Age', ylabel='count_total'>"
      ]
     },
     "execution_count": 172,
     "metadata": {},
     "output_type": "execute_result"
    },
    {
     "data": {
      "image/png": "[encoded data removed]",
      "text/plain": [
       "<Figure size 432x288 with 1 Axes>"
      ]
     },
     "metadata": {},
     "output_type": "display_data"
    }
   ],
   "source": [
    "#extract age and murmurs from the training data\n",
    "patient_age = train_data['Age'].fillna(method='ffill', inplace = True) #filling the 74 missing values in 'age' column\n",
    "age_murmur = train_data.loc[:, ['Age', 'Murmur']]\n",
    "\n",
    "#group by age\n",
    "by_age = age_murmur.groupby('Age').count()\n",
    "print(by_age)\n",
    "print('*****************************************************')\n",
    "\n",
    "#group by murmur\n",
    "by_murmur = age_murmur.groupby('Murmur').count()\n",
    "print(by_murmur)\n",
    "print('**********************************************')\n",
    "\n",
    "#by both murmur and age and add a total column then plot\n",
    "by_murmur_age = age_murmur.groupby(['Age','Murmur']).size()\n",
    "by_murmur_age.name= 'count_total'\n",
    "by_murmur_age = by_murmur_age.reset_index()\n",
    "print(by_murmur_age)\n",
    "print('**************************************************')\n",
    "\n",
    "sns.barplot(x='Age', y='count_total', hue='Murmur', data=by_murmur_age)"
   ]
  },
  {
   "cell_type": "markdown",
   "metadata": {},
   "source": [
    "# Observations from the relationship between patient age and their murmur classification\n",
    "\n",
    "1. Age has 74 missing values, which we filled using forward filling method.\n",
    "2. Age is categorized into five broad 'categories', and its an object type not an int\n",
    "3. Many of the heart murmurs belong to children and infants\n"
   ]
  },
  {
   "cell_type": "markdown",
   "metadata": {},
   "source": [
    "# Relationship between sex and murmur classification\n"
   ]
  },
  {
   "cell_type": "code",
   "execution_count": 134,
   "metadata": {},
   "outputs": [
    {
     "name": "stdout",
     "output_type": "stream",
     "text": [
      "      Sex   Murmur\n",
      "0  Female   Absent\n",
      "1  Female  Present\n",
      "2    Male  Unknown\n",
      "3    Male  Present\n",
      "4    Male  Present\n",
      "***********************************\n",
      "        Murmur\n",
      "Sex           \n",
      "Female     486\n",
      "Male       456\n",
      "*************************************\n",
      "         Sex\n",
      "Murmur      \n",
      "Absent   695\n",
      "Present  179\n",
      "Unknown   68\n",
      "**************************************\n",
      "      Sex   Murmur  Total\n",
      "0  Female   Absent    355\n",
      "1  Female  Present     92\n",
      "2  Female  Unknown     39\n",
      "3    Male   Absent    340\n",
      "4    Male  Present     87\n",
      "5    Male  Unknown     29\n"
     ]
    },
    {
     "data": {
      "text/plain": [
       "<AxesSubplot:xlabel='Sex', ylabel='Total'>"
      ]
     },
     "execution_count": 134,
     "metadata": {},
     "output_type": "execute_result"
    },
    {
     "data": {
      "image/png": "[encoded data removed]",
      "text/plain": [
       "<Figure size 432x288 with 1 Axes>"
      ]
     },
     "metadata": {},
     "output_type": "display_data"
    }
   ],
   "source": [
    "#extract the sex and murmur and put them into a dataframe\n",
    "sex_murmur = train_data.loc[:,['Sex','Murmur']]\n",
    "print(sex_murmur.head())\n",
    "print('***********************************')\n",
    "\n",
    "#groupby Sex\n",
    "by_sex = sex_murmur.groupby('Sex').count()\n",
    "print(by_sex)\n",
    "print('*************************************')\n",
    "\n",
    "#groupby murmur\n",
    "by_murmur = sex_murmur.groupby('Murmur').count()\n",
    "print(by_murmur)\n",
    "print('**************************************')\n",
    "\n",
    "#groupby both murmur and sex then count each group the plot\n",
    "by_both = sex_murmur.groupby(['Sex','Murmur'])\n",
    "count_groups = by_both.size() #count the values in the group\n",
    "count_groups.name = 'Total' #add column total\n",
    "count_groups = count_groups.reset_index()\n",
    "print(count_groups)\n",
    "\n",
    "sns.barplot(x='Sex', y='Total', hue='Murmur', data=count_groups)"
   ]
  },
  {
   "cell_type": "markdown",
   "metadata": {},
   "source": [
    "# Observations from the relationship between the sex and murmur classification\n",
    "\n",
    "1. There is more data on female than male. \n",
    "2. Most female and male dont have murmurs (murmurs classified as absent)\n",
    "3. There is a small number of male and female whose hearts' sounds were not identified as with or without murmurs (Murmur classified as unknown)\n",
    "4. Data about patient sex and their corresponding murmur classification existed (that is no missing data)."
   ]
  },
  {
   "cell_type": "code",
   "execution_count": null,
   "metadata": {},
   "outputs": [],
   "source": []
  },
  {
   "cell_type": "markdown",
   "metadata": {},
   "source": [
    "# Relationship between the body mass index (BMI) of the patients and their murmur classification\n",
    "\n"
   ]
  },
  {
   "cell_type": "code",
   "execution_count": 42,
   "metadata": {},
   "outputs": [
    {
     "name": "stdout",
     "output_type": "stream",
     "text": [
      "   Height  Weight   Murmur\n",
      "0    98.0   15.90   Absent\n",
      "1   103.0   13.10  Present\n",
      "2   115.0   19.10  Unknown\n",
      "3    98.0   15.90  Present\n",
      "4    87.0   11.20  Present\n",
      "5     NaN     NaN   Absent\n",
      "6    92.0   14.00   Absent\n",
      "7    98.0   17.66   Absent\n",
      "8    88.0   12.50  Present\n",
      "9    82.0   10.70  Unknown\n",
      "****************************************************\n",
      "0    16.555602\n",
      "1    12.348006\n",
      "2    14.442344\n",
      "3    16.555602\n",
      "4    14.797199\n",
      "dtype: float64\n",
      "**************************************************\n",
      "   Height  Weight   Murmur        bmi\n",
      "0    98.0    15.9   Absent  16.555602\n",
      "1   103.0    13.1  Present  12.348006\n",
      "2   115.0    19.1  Unknown  14.442344\n",
      "3    98.0    15.9  Present  16.555602\n",
      "4    87.0    11.2  Present  14.797199\n",
      "**************************************************\n",
      "The lenght of weight column is 942\n",
      "While the length of height column is 942\n",
      "The length of bmi column is 942\n",
      "**************************************************\n",
      "<class 'pandas.core.frame.DataFrame'>\n",
      "RangeIndex: 942 entries, 0 to 941\n",
      "Data columns (total 4 columns):\n",
      " #   Column  Non-Null Count  Dtype  \n",
      "---  ------  --------------  -----  \n",
      " 0   Height  826 non-null    float64\n",
      " 1   Weight  837 non-null    float64\n",
      " 2   Murmur  942 non-null    object \n",
      " 3   bmi     824 non-null    float64\n",
      "dtypes: float64(3), object(1)\n",
      "memory usage: 29.6+ KB\n",
      "None\n",
      "**************************************************\n",
      "           Height      Weight         bmi\n",
      "count  826.000000  837.000000  824.000000\n",
      "mean   110.800242   23.632756   17.895944\n",
      "std     30.000607   15.453337    8.415162\n",
      "min     35.000000    2.300000    6.181134\n",
      "25%     89.000000   12.500000   15.082240\n",
      "50%    115.000000   20.400000   16.712532\n",
      "75%    133.000000   31.200000   18.935633\n",
      "max    180.000000  110.800000  166.204986\n"
     ]
    },
    {
     "data": {
      "text/plain": [
       "<AxesSubplot:xlabel='bmi', ylabel='Murmur'>"
      ]
     },
     "execution_count": 42,
     "metadata": {},
     "output_type": "execute_result"
    },
    {
     "data": {
      "image/png": "[encoded data removed]",
      "text/plain": [
       "<Figure size 432x288 with 1 Axes>"
      ]
     },
     "metadata": {},
     "output_type": "display_data"
    }
   ],
   "source": [
    "#slice the height, weight and murmur columns\n",
    "height_weight_murmur = train_data.loc[:,['Height','Weight','Murmur']]\n",
    "print(height_weight_murmur.head(10))\n",
    "print('****************************************************')\n",
    "\n",
    "\n",
    "#calculate bmi using the height and weight\n",
    "weight = height_weight_murmur['Weight']\n",
    "height = height_weight_murmur['Height']\n",
    "bmi = weight/(height/100*height/100)\n",
    "print(bmi.head())\n",
    "print('**************************************************')\n",
    "\n",
    "#add a bmi column on our new data frame\n",
    "height_weight_murmur.name = 'bmi'\n",
    "height_weight_murmur['bmi'] = bmi\n",
    "print(height_weight_murmur.head())\n",
    "print('**************************************************')\n",
    "\n",
    "print(\"The lenght of weight column is \" + str(len(weight)))\n",
    "print(\"While the length of height column is \" + str(len(height)))\n",
    "print('The length of bmi column is '+ str(len(bmi)))\n",
    "print('**************************************************')\n",
    "\n",
    "#basic statistics of this dataframe\n",
    "print(height_weight_murmur.info())\n",
    "print('**************************************************')\n",
    "print(height_weight_murmur.describe())\n",
    "\n",
    "#plot of bmi vs murmur classifications\n",
    "sns.histplot(x='bmi', y='Murmur', hue='Murmur', data=height_weight_murmur, bins='auto')\n",
    "\n",
    "\n"
   ]
  },
  {
   "cell_type": "markdown",
   "metadata": {},
   "source": [
    "# Observations from the relationship between BMI and murmur classification\n",
    "\n",
    "1. The mean bmi is 17. This is an underweight value.\n",
    "2. We have outlier bmi values. That is values way above the normal value.\n",
    "3. We have some missing values."
   ]
  },
  {
   "cell_type": "code",
   "execution_count": null,
   "metadata": {},
   "outputs": [],
   "source": [
    "\n",
    "    "
   ]
  },
  {
   "cell_type": "code",
   "execution_count": null,
   "metadata": {},
   "outputs": [],
   "source": []
  },
  {
   "cell_type": "markdown",
   "metadata": {},
   "source": [
    "# Relationship between murmur location and the number of present murmur in that location\n"
   ]
  },
  {
   "cell_type": "code",
   "execution_count": 121,
   "metadata": {},
   "outputs": [
    {
     "name": "stdout",
     "output_type": "stream",
     "text": [
      "    Murmur Murmur locations\n",
      "0   Absent              NaN\n",
      "1  Present      AV+MV+PV+TV\n",
      "2  Unknown              NaN\n",
      "3  Present               TV\n",
      "4  Present      AV+MV+PV+TV\n",
      "5   Absent              NaN\n",
      "6   Absent              NaN\n",
      "7   Absent              NaN\n",
      "8  Present      AV+MV+PV+TV\n",
      "9  Unknown              NaN\n",
      "********************************************\n",
      "<class 'pandas.core.frame.DataFrame'>\n",
      "RangeIndex: 942 entries, 0 to 941\n",
      "Data columns (total 2 columns):\n",
      " #   Column            Non-Null Count  Dtype \n",
      "---  ------            --------------  ----- \n",
      " 0   Murmur            942 non-null    object\n",
      " 1   Murmur locations  179 non-null    object\n",
      "dtypes: object(2)\n",
      "memory usage: 14.8+ KB\n",
      "None\n",
      "*********************************************\n",
      "   Murmur locations  number of present murmur in this location\n",
      "0                AV                                          2\n",
      "1             AV+MV                                         19\n",
      "2          AV+MV+PV                                          2\n",
      "3   AV+MV+PV+Phc+TV                                          1\n",
      "4       AV+MV+PV+TV                                         70\n",
      "5          AV+MV+TV                                          1\n",
      "6             AV+PV                                          6\n",
      "7          AV+PV+TV                                          6\n",
      "8             AV+TV                                          1\n",
      "9                MV                                         16\n",
      "10            MV+PV                                          4\n",
      "11         MV+PV+TV                                         17\n",
      "12        MV+Phc+TV                                          1\n",
      "13            MV+TV                                          9\n",
      "14               PV                                          6\n",
      "15            PV+TV                                          8\n",
      "16               TV                                         10\n"
     ]
    },
    {
     "data": {
      "text/plain": [
       "<AxesSubplot:xlabel='number of present murmur in this location', ylabel='Murmur locations'>"
      ]
     },
     "execution_count": 121,
     "metadata": {},
     "output_type": "execute_result"
    },
    {
     "data": {
      "image/png": "[encoded data removed]",
      "text/plain": [
       "<Figure size 432x288 with 1 Axes>"
      ]
     },
     "metadata": {},
     "output_type": "display_data"
    }
   ],
   "source": [
    "#slice the two columns- murmur location and murmur classification\n",
    "location_class = train_data.loc[:,['Murmur','Murmur locations']]\n",
    "print(location_class.head(10))\n",
    "print('********************************************')\n",
    "\n",
    "#basic statistics about the two columns\n",
    "print(location_class.info())\n",
    "print('*********************************************')\n",
    "\n",
    "#slice where the rows where murmur is present\n",
    "by_murmur = location_class.groupby('Murmur locations').size()\n",
    "by_murmur.name = 'number of present murmur in this location'\n",
    "by_murmur = by_murmur.reset_index()\n",
    "print(by_murmur)\n",
    "\n",
    "sns.barplot(y='Murmur locations', x='number of present murmur in this location', data=by_murmur)"
   ]
  },
  {
   "cell_type": "markdown",
   "metadata": {},
   "source": [
    "# Observations from the relationship between murmur location and the number of present murmur in that location.\n",
    "\n",
    "1. The sum of the four locations (AV, MV, PV and TV) had the highest number classified as present murmur.\n",
    "2. There exist many missing values in the 'murmur location' column"
   ]
  },
  {
   "cell_type": "code",
   "execution_count": null,
   "metadata": {},
   "outputs": [],
   "source": []
  },
  {
   "cell_type": "markdown",
   "metadata": {},
   "source": [
    "# Relationship betweeen most audible murmur and murmur location"
   ]
  },
  {
   "cell_type": "code",
   "execution_count": 114,
   "metadata": {},
   "outputs": [
    {
     "name": "stdout",
     "output_type": "stream",
     "text": [
      "    Murmur Most audible location\n",
      "0   Absent                   NaN\n",
      "1  Present                    TV\n",
      "2  Unknown                   NaN\n",
      "3  Present                    TV\n",
      "4  Present                    PV\n",
      "5   Absent                   NaN\n",
      "6   Absent                   NaN\n",
      "7   Absent                   NaN\n",
      "8  Present                    TV\n",
      "9  Unknown                   NaN\n",
      "******************************************************\n",
      "<class 'pandas.core.frame.DataFrame'>\n",
      "RangeIndex: 942 entries, 0 to 941\n",
      "Data columns (total 2 columns):\n",
      " #   Column                 Non-Null Count  Dtype \n",
      "---  ------                 --------------  ----- \n",
      " 0   Murmur                 942 non-null    object\n",
      " 1   Most audible location  179 non-null    object\n",
      "dtypes: object(2)\n",
      "memory usage: 14.8+ KB\n",
      "None\n",
      "******************************************************\n",
      "  Most audible location  sum_total\n",
      "0                    AV         19\n",
      "1                    MV         42\n",
      "2                    PV         62\n",
      "3                    TV         56\n"
     ]
    },
    {
     "data": {
      "text/plain": [
       "<AxesSubplot:xlabel='Most audible location', ylabel='sum_total'>"
      ]
     },
     "execution_count": 114,
     "metadata": {},
     "output_type": "execute_result"
    },
    {
     "data": {
      "image/png": "[encoded data removed]",
      "text/plain": [
       "<Figure size 432x288 with 1 Axes>"
      ]
     },
     "metadata": {},
     "output_type": "display_data"
    }
   ],
   "source": [
    "#slice the two columns\n",
    "audible_murmur = train_data.loc[:,['Murmur', 'Most audible location']]\n",
    "print(audible_murmur.head(10))\n",
    "print('******************************************************')\n",
    "print(audible_murmur.info())\n",
    "print('******************************************************')\n",
    "\n",
    "#select only columns with present murmur\n",
    "by_audiblelocation = only_present_murmurs.groupby('Most audible location').size()\n",
    "by_audiblelocation.name = 'sum_total'\n",
    "by_audiblelocation = by_audiblelocation.reset_index()\n",
    "print(by_audiblelocation)\n",
    "\n",
    "sns.barplot(x='Most audible location', y='sum_total', data=by_audiblelocation)"
   ]
  },
  {
   "cell_type": "markdown",
   "metadata": {},
   "source": [
    "# Observation from the analysis of the relationship betweeen most audible murmur and murmur location\n",
    "\n",
    "1. PV is the location with the most audible murmurs at 62 out of 179 murmurs\n",
    "2. We have many missing 'most audible murmur location' values."
   ]
  },
  {
   "cell_type": "code",
   "execution_count": null,
   "metadata": {},
   "outputs": [],
   "source": []
  }
 ],
 "metadata": {
  "kernelspec": {
   "display_name": "Python 3",
   "language": "python",
   "name": "python3"
  },
  "language_info": {
   "codemirror_mode": {
    "name": "ipython",
    "version": 3
   },
   "file_extension": ".py",
   "mimetype": "text/x-python",
   "name": "python",
   "nbconvert_exporter": "python",
   "pygments_lexer": "ipython3",
   "version": "3.8.5"
  }
 },
 "nbformat": 4,
 "nbformat_minor": 4
}
